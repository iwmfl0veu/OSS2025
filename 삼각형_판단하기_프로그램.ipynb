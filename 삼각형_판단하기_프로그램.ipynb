{
  "nbformat": 4,
  "nbformat_minor": 0,
  "metadata": {
    "colab": {
      "provenance": [],
      "authorship_tag": "ABX9TyOT2X/NMQNhAE9trUws/bPF",
      "include_colab_link": true
    },
    "kernelspec": {
      "name": "python3",
      "display_name": "Python 3"
    },
    "language_info": {
      "name": "python"
    }
  },
  "cells": [
    {
      "cell_type": "markdown",
      "metadata": {
        "id": "view-in-github",
        "colab_type": "text"
      },
      "source": [
        "<a href=\"https://colab.research.google.com/github/iwmfl0veu/OSS2025/blob/main/%EC%82%BC%EA%B0%81%ED%98%95_%ED%8C%90%EB%8B%A8%ED%95%98%EA%B8%B0_%ED%94%84%EB%A1%9C%EA%B7%B8%EB%9E%A8.ipynb\" target=\"_parent\"><img src=\"https://colab.research.google.com/assets/colab-badge.svg\" alt=\"Open In Colab\"/></a>"
      ]
    },
    {
      "cell_type": "markdown",
      "source": [
        "# 삼각형 판단하기\n",
        "\n",
        "본 수업에서는 **삼각형의 세변의 길이**를 받아서 어떠한 삼각형인지를 알려주는 프로그램을 개발합니다.\n",
        "제안하는 프로그램은 사용자로부터 3개의 입력을 받습니다.\n",
        "\n"
      ],
      "metadata": {
        "id": "imiJ34WkxjuX"
      }
    },
    {
      "cell_type": "code",
      "source": [
        "number = 102  # @param {type: \"number\"}\n",
        "number = 25 # @param {type: \"number\"}\n",
        "number = 10  # @param {type: \"number\"}\n",
        "date = '2010-11-05'  # @param {type: \"date\"}\n",
        "pick_me = \"monday\"  # @param ['monday', 'tuesday', 'wednesday', 'thursday']\n",
        "select_or_input = \"apples\" # @param [\"apples\", \"bananas\", \"oranges\"] {allow-input: true}\n",
        "# @markdown ---\n"
      ],
      "metadata": {
        "id": "tF8SMQXnzVsb"
      },
      "execution_count": 4,
      "outputs": []
    },
    {
      "cell_type": "markdown",
      "source": [
        "##정삼각형\n",
        "\n",
        "$a = b = c$ 정사각형 🔺"
      ],
      "metadata": {
        "id": "_SQNnLVO0I0D"
      }
    },
    {
      "cell_type": "code",
      "source": [
        "a = 5\n",
        "b = 6\n",
        "c = 13\n",
        "\n",
        "\n",
        "if a == b == c:\n",
        "  print(\"정삼각형\")\n",
        "else:\n",
        "  print(\"정삼각형 아님\")"
      ],
      "metadata": {
        "colab": {
          "base_uri": "https://localhost:8080/"
        },
        "id": "jklqOeHLzzJX",
        "outputId": "cd396a05-ddad-4a2d-bbc5-da56dba9f8e2"
      },
      "execution_count": 5,
      "outputs": [
        {
          "output_type": "stream",
          "name": "stdout",
          "text": [
            "정삼각형 아님\n"
          ]
        }
      ]
    },
    {
      "cell_type": "code",
      "source": [],
      "metadata": {
        "id": "Lx2fyYCY0htE"
      },
      "execution_count": null,
      "outputs": []
    }
  ]
}