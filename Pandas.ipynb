{
  "nbformat": 4,
  "nbformat_minor": 0,
  "metadata": {
    "colab": {
      "provenance": [],
      "authorship_tag": "ABX9TyNVFRDwXdu1by/Ydo96a3Cm",
      "include_colab_link": true
    },
    "kernelspec": {
      "name": "python3",
      "display_name": "Python 3"
    },
    "language_info": {
      "name": "python"
    }
  },
  "cells": [
    {
      "cell_type": "markdown",
      "metadata": {
        "id": "view-in-github",
        "colab_type": "text"
      },
      "source": [
        "<a href=\"https://colab.research.google.com/github/iwmfl0veu/OSS2025/blob/main/Pandas.ipynb\" target=\"_parent\"><img src=\"https://colab.research.google.com/assets/colab-badge.svg\" alt=\"Open In Colab\"/></a>"
      ]
    },
    {
      "cell_type": "code",
      "source": [
        "# prompt: /content/sample_data/california_housing_test.csv 로부터 집값 예측 프로그램을 새성해줘\n",
        "\n",
        "import pandas as pd\n",
        "from sklearn.model_selection import train_test_split\n",
        "from sklearn.linear_model import LinearRegression\n",
        "from sklearn.metrics import mean_squared_error\n",
        "\n",
        "# 데이터 로드\n",
        "try:\n",
        "  df = pd.read_csv('/content/sample_data/california_housing_test.csv')\n",
        "except FileNotFoundError:\n",
        "  print(\"Error: File not found. Please make sure the file path is correct.\")\n",
        "  exit()\n",
        "\n",
        "\n",
        "# 특성(X)과 타겟 변수(y) 분리\n",
        "X = df.drop('median_house_value', axis=1)\n",
        "y = df['median_house_value']\n",
        "\n",
        "# 데이터를 훈련 세트와 테스트 세트로 분할\n",
        "X_train, X_test, y_train, y_test = train_test_split(X, y, test_size=0.2, random_state=42)\n",
        "\n",
        "# 선형 회귀 모델 생성 및 훈련\n",
        "model = LinearRegression()\n",
        "model.fit(X_train, y_train)\n",
        "\n",
        "# 테스트 세트에 대한 예측\n",
        "y_pred = model.predict(X_test)\n",
        "\n",
        "# 모델 평가 (평균 제곱 오차)\n",
        "mse = mean_squared_error(y_test, y_pred)\n",
        "print(f\"Mean Squared Error: {mse}\")\n",
        "\n",
        "# 새로운 데이터 입력 받아 예측 (예시)\n",
        "new_data = pd.DataFrame({\n",
        "    'longitude': [-122.23],\n",
        "    'latitude': [37.88],\n",
        "    'housing_median_age': [41.0],\n",
        "    'total_rooms': [880.0],\n",
        "    'total_bedrooms': [129.0],\n",
        "    'population': [322.0],\n",
        "    'households': [126.0],\n",
        "    'median_income': [8.3252],\n",
        "})\n",
        "\n",
        "\n",
        "predicted_price = model.predict(new_data)\n",
        "print(f\"Predicted Median House Value: {predicted_price[0]}\")\n"
      ],
      "metadata": {
        "colab": {
          "base_uri": "https://localhost:8080/"
        },
        "id": "66KTa9Y94AVo",
        "outputId": "0b1eda97-c7b4-41c0-bd1d-3dce63a7015f"
      },
      "execution_count": 2,
      "outputs": [
        {
          "output_type": "stream",
          "name": "stdout",
          "text": [
            "Mean Squared Error: 4586505886.68125\n",
            "Predicted Median House Value: 413465.52276882343\n"
          ]
        }
      ]
    },
    {
      "cell_type": "code",
      "source": [
        "# prompt: /15088856/v1/uddi:f88e5a0d-52e2-4fdf-badc-dd0eb3127aeb 로부터 전철의 혼잡도가 가장 높을 때를 예측하는 프로그램을 작성해줘\n",
        "\n",
        "import pandas as pd\n",
        "from sklearn.model_selection import train_test_split\n",
        "from sklearn.linear_model import LinearRegression\n",
        "from sklearn.metrics import mean_squared_error\n",
        "\n",
        "# 제공된 API 엔드포인트(/15088856/v1/uddi:f88e5a0d-52e2-4fdf-badc-dd0eb3127aeb)를 통해 데이터를 가져오는 부분이 필요합니다.\n",
        "# 이 부분은 실제 API와의 통신을 구현해야 합니다.\n",
        "# 예시로, CSV 파일을 사용하는 부분을 주석 처리하고, API를 통해 데이터를 가져오는 코드로 대체합니다.\n",
        "\n",
        "# 데이터를 API에서 가져오는 가상 코드 (실제 API와 연동하도록 수정 필요)\n",
        "try:\n",
        "  # 실제 API 호출 부분\n",
        "  # df = pd.read_json(api_endpoint)  # API endpoint에서 JSON 형식으로 데이터 읽기\n",
        "  # df = pd.read_csv(api_endpoint) # API endpoint에서 CSV 형식으로 데이터 읽기\n",
        "\n",
        "  # 테스트를 위한 더미 데이터 (API 통합 전까지 사용)\n",
        "  data = {'time': [1, 2, 3, 4, 5], 'crowdedness': [10, 20, 30, 25, 40]}\n",
        "  df = pd.DataFrame(data)\n",
        "except Exception as e:\n",
        "  print(f\"Error fetching data from API: {e}\")\n",
        "  exit()\n",
        "\n",
        "# 시간(time)을 독립 변수, 혼잡도(crowdedness)를 종속 변수로 설정\n",
        "X = df[['time']]\n",
        "y = df['crowdedness']\n",
        "\n",
        "# 데이터를 훈련 세트와 테스트 세트로 분할\n",
        "X_train, X_test, y_train, y_test = train_test_split(X, y, test_size=0.2, random_state=42)\n",
        "\n",
        "# 선형 회귀 모델 생성 및 훈련\n",
        "model = LinearRegression()\n",
        "model.fit(X_train, y_train)\n",
        "\n",
        "# 테스트 세트에 대한 예측\n",
        "y_pred = model.predict(X_test)\n",
        "\n",
        "# 모델 평가 (평균 제곱 오차)\n",
        "mse = mean_squared_error(y_test, y_pred)\n",
        "print(f\"Mean Squared Error: {mse}\")\n",
        "\n",
        "# 혼잡도가 가장 높을 때 예측\n",
        "# 실제 API에서 시간 정보를 가져오거나 사용자가 시간을 입력하도록 구현해야 합니다.\n",
        "# 예시로 현재 시간을 기반으로 예측\n",
        "import datetime\n",
        "now = datetime.datetime.now()\n",
        "future_time = now + datetime.timedelta(hours=1) # 1시간 후 예측 (수정 가능)\n",
        "future_time_numeric = future_time.timestamp() # 시간 값을 숫자로 변환\n",
        "new_data = pd.DataFrame({'time': [future_time_numeric]})\n",
        "\n",
        "predicted_crowdedness = model.predict(new_data)\n",
        "\n",
        "print(f\"Predicted Crowdedness at {future_time}: {predicted_crowdedness[0]}\")\n"
      ],
      "metadata": {
        "colab": {
          "base_uri": "https://localhost:8080/"
        },
        "id": "WFafUfKB5SB6",
        "outputId": "ccebdadf-d7dc-4677-93c0-5e6d71674392"
      },
      "execution_count": 4,
      "outputs": [
        {
          "output_type": "stream",
          "name": "stdout",
          "text": [
            "Mean Squared Error: 4.591836734693875\n",
            "Predicted Crowdedness at 2025-03-17 07:59:49.616237: 11697617763.280447\n"
          ]
        }
      ]
    },
    {
      "cell_type": "code",
      "source": [
        "# prompt: uddi:f88e5a0d-52e2-4fdf-badc-dd0eb3127aeb_model 로부터 전철의 최대 혼잡 구간을 구하는 프로그램을 작성해줘\n",
        "\n",
        "import pandas as pd\n",
        "import requests\n",
        "from sklearn.linear_model import LinearRegression\n",
        "from sklearn.metrics import mean_squared_error\n",
        "import datetime\n",
        "\n",
        "# API 엔드포인트 (수정 필요)\n",
        "api_endpoint = \"uddi:f88e5a0d-52e2-4fdf-badc-dd0eb3127aeb_model\"  # 실제 API 엔드포인트로 변경해야 합니다.\n",
        "\n",
        "try:\n",
        "    # API 호출 (실제 API와 통신하도록 수정 필요)\n",
        "    # 예시: requests 라이브러리를 사용하여 API 호출\n",
        "    response = requests.get(api_endpoint)\n",
        "    response.raise_for_status()  # HTTP 에러 발생 시 예외 발생\n",
        "\n",
        "    # API 응답 데이터 처리 (JSON 또는 CSV 등)\n",
        "    # API 응답이 JSON 형식이라고 가정\n",
        "    data = response.json()\n",
        "    df = pd.DataFrame(data)\n",
        "\n",
        "except requests.exceptions.RequestException as e:\n",
        "    print(f\"Error fetching data from API: {e}\")\n",
        "    exit()\n",
        "except ValueError as e:\n",
        "    print(f\"Error decoding JSON response: {e}\")\n",
        "    exit()\n",
        "except Exception as e:  # 기타 예외 처리\n",
        "    print(f\"An unexpected error occurred: {e}\")\n",
        "    exit()\n",
        "\n",
        "\n",
        "# 데이터 전처리 (필요에 따라 추가)\n",
        "# ...\n",
        "\n",
        "# 시간(time)을 독립 변수, 혼잡도(crowdedness)를 종속 변수로 설정 (컬럼명 수정 필요)\n",
        "if 'time' in df.columns and 'crowdedness' in df.columns:\n",
        "  X = df[['time']]\n",
        "  y = df['crowdedness']\n",
        "else:\n",
        "  print(\"Error: 'time' or 'crowdedness' column not found in the DataFrame.\")\n",
        "  exit()\n",
        "\n",
        "# 선형 회귀 모델 생성 및 훈련\n",
        "model = LinearRegression()\n",
        "model.fit(X, y)\n",
        "\n",
        "# 최대 혼잡 구간 예측 (전체 데이터셋에 대한 예측)\n",
        "df['predicted_crowdedness'] = model.predict(X)\n",
        "\n",
        "# 최대 혼잡 구간 찾기\n",
        "max_crowdedness_index = df['predicted_crowdedness'].idxmax()\n",
        "max_crowdedness_time = df.loc[max_crowdedness_index, 'time']\n",
        "max_crowdedness_value = df.loc[max_crowdedness_index, 'predicted_crowdedness']\n",
        "\n",
        "print(f\"Predicted maximum crowdedness: {max_crowdedness_value} at time {max_crowdedness_time}\")\n"
      ],
      "metadata": {
        "colab": {
          "base_uri": "https://localhost:8080/"
        },
        "id": "kxcm6w_K6itH",
        "outputId": "dadbc07f-4c0d-4b4d-f7ce-c4c2a1924b2b"
      },
      "execution_count": 5,
      "outputs": [
        {
          "output_type": "stream",
          "name": "stdout",
          "text": [
            "Error fetching data from API: No connection adapters were found for 'uddi:f88e5a0d-52e2-4fdf-badc-dd0eb3127aeb_model'\n",
            "Predicted maximum crowdedness: 38.0 at time 5\n"
          ]
        }
      ]
    }
  ]
}